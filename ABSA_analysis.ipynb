{
  "cells": [
    {
      "cell_type": "code",
      "execution_count": null,
      "id": "3397a6df-b79d-4766-8242-bb05fbec1daf",
      "metadata": {
        "id": "3397a6df-b79d-4766-8242-bb05fbec1daf"
      },
      "outputs": [],
      "source": [
        "# 1. IMPORT LIBRARIES\n",
        "import pandas as pd\n",
        "import numpy as np\n",
        "import re\n",
        "import spacy\n",
        "import seaborn as sns\n",
        "import matplotlib.pyplot as plt\n",
        "\n",
        "from sklearn.model_selection import train_test_split\n",
        "from sklearn.feature_extraction.text import TfidfVectorizer\n",
        "from sklearn.linear_model import LogisticRegression\n",
        "from sklearn.metrics import classification_report, confusion_matrix"
      ]
    },
    {
      "cell_type": "code",
      "execution_count": null,
      "id": "6fe67ec4-b3de-4f8f-b2b2-6fba4fa6c0f6",
      "metadata": {
        "id": "6fe67ec4-b3de-4f8f-b2b2-6fba4fa6c0f6",
        "outputId": "51ccd8d5-da77-4835-c714-cc7952d51faa"
      },
      "outputs": [
        {
          "name": "stderr",
          "output_type": "stream",
          "text": [
            "C:\\Users\\Devarshi\\AppData\\Local\\Temp\\ipykernel_1772\\2310875986.py:2: DtypeWarning: Columns (3) have mixed types. Specify dtype option on import or set low_memory=False.\n",
            "  df = pd.read_csv(\"D:\\jupyter\\DataSets\\Ola Customer Reviews.csv\")\n"
          ]
        },
        {
          "name": "stdout",
          "output_type": "stream",
          "text": [
            "Dataset loaded with 356787 reviews\n"
          ]
        }
      ],
      "source": [
        "# 2. LOAD DATA\n",
        "df = pd.read_csv(\"/content/Ola Customer Reviews.csv\")\n",
        "df = df[[\"review_description\", \"rating\",\"thumbs_up\"]].dropna()\n",
        "\n",
        "print(\"Dataset loaded with\", len(df), \"reviews\")"
      ]
    },
    {
      "cell_type": "code",
      "execution_count": null,
      "id": "e895c2f6-88e9-4048-8101-60d379d3783e",
      "metadata": {
        "id": "e895c2f6-88e9-4048-8101-60d379d3783e",
        "outputId": "3291f6a7-504c-4131-d3b8-bf0c78f6e052"
      },
      "outputs": [
        {
          "data": {
            "text/plain": [
              "<Axes: title={'center': 'Sentiment Distribution'}, xlabel='sentiment'>"
            ]
          },
          "execution_count": 3,
          "metadata": {},
          "output_type": "execute_result"
        },
        {
          "data": {
            "image/png": "[encoded data removed]",
            "text/plain": [
              "<Figure size 640x480 with 1 Axes>"
            ]
          },
          "metadata": {},
          "output_type": "display_data"
        }
      ],
      "source": [
        "# 3. MAP RATINGS TO SENTIMENT LABELS\n",
        "def map_rating_to_sentiment(rating):\n",
        "    if rating >= 4:\n",
        "        return \"positive\"\n",
        "    elif rating == 3:\n",
        "        return \"neutral\"\n",
        "    else:\n",
        "        return \"negative\"\n",
        "\n",
        "df[\"sentiment\"] = df[\"rating\"].apply(map_rating_to_sentiment)\n",
        "\n",
        "# Balance the dataset\n",
        "df[\"sentiment\"].value_counts().plot(kind='bar', title=\"Sentiment Distribution\", color=\"skyblue\")"
      ]
    },
    {
      "cell_type": "code",
      "execution_count": null,
      "id": "66f62304-d7bd-4ba7-b7e3-dab5363a4510",
      "metadata": {
        "id": "66f62304-d7bd-4ba7-b7e3-dab5363a4510"
      },
      "outputs": [],
      "source": [
        "# 4. CLEAN TEXT\n",
        "def clean_text(text):\n",
        "    text = re.sub(r\"<.*?>\", \"\", text)\n",
        "    text = re.sub(r\"http\\S+\", \"\", text)\n",
        "    text = re.sub(r\"[^a-zA-Z0-9\\s]\", \"\", text)\n",
        "    return text.strip().lower()\n",
        "\n",
        "df[\"cleaned\"] = df[\"review_description\"].apply(clean_text)"
      ]
    },
    {
      "cell_type": "code",
      "execution_count": null,
      "id": "a18a3bed-a841-4015-9307-38445cebe40c",
      "metadata": {
        "id": "a18a3bed-a841-4015-9307-38445cebe40c"
      },
      "outputs": [],
      "source": [
        "# 5. ASPECT EXTRACTION USING SPACY\n",
        "nlp = spacy.load(\"en_core_web_sm\")\n",
        "\n",
        "# def extract_aspects(text):\n",
        "#     doc = nlp(text)\n",
        "#     return [chunk.text.lower() for chunk in doc.noun_chunks if len(chunk.text.strip()) > 1]\n",
        "\n",
        "def batch_extract_aspects(texts, batch_size=1000):\n",
        "    aspects = []\n",
        "    for doc in nlp.pipe(texts, batch_size=batch_size, disable=[\"ner\", \"textcat\"]):\n",
        "        chunks = [chunk.text.lower() for chunk in doc.noun_chunks if len(chunk.text.strip()) > 1]\n",
        "        aspects.append(chunks)\n",
        "    return aspects\n",
        "\n",
        "# df[\"aspects\"] = df[\"cleaned\"].apply(extract_aspects)\n",
        "df[\"aspects\"] = batch_extract_aspects(df[\"cleaned\"])"
      ]
    },
    {
      "cell_type": "code",
      "execution_count": null,
      "id": "d66b0493-c7d5-4bda-bc35-233c6fc54590",
      "metadata": {
        "id": "d66b0493-c7d5-4bda-bc35-233c6fc54590"
      },
      "outputs": [],
      "source": [
        "# 6. MODEL TRAINING (TF-IDF + LOGISTIC REGRESSION WITH WEIGHTING)\n",
        "\n",
        "# Fill missing values in thumbs_up with 0\n",
        "df[\"thumbs_up\"] = df[\"thumbs_up\"].fillna(0)\n",
        "\n",
        "# Normalize thumbs_up to avoid extreme weights\n",
        "# (Optional tweak: log scale to reduce extreme gaps)\n",
        "df[\"weight\"] = df[\"thumbs_up\"].apply(lambda x: np.log1p(x))  # log1p(x) = log(1 + x)\n",
        "\n",
        "# TF-IDF Vectorization\n",
        "X = df[\"cleaned\"]\n",
        "y = df[\"sentiment\"]\n",
        "X_vec = vectorizer.fit_transform(X)\n",
        "\n",
        "# Split data\n",
        "X_train_vec, X_test_vec, y_train, y_test, w_train, w_test = train_test_split(\n",
        "    X_vec, y, df[\"weight\"], test_size=0.2, random_state=42\n",
        ")\n",
        "\n",
        "# Train with sample weights\n",
        "model = LogisticRegression(max_iter=200)\n",
        "model.fit(X_train_vec, y_train, sample_weight=w_train)"
      ]
    },
    {
      "cell_type": "code",
      "execution_count": null,
      "id": "d91f728b-ee3a-40a7-bd8c-f9e56eaedc8a",
      "metadata": {
        "id": "d91f728b-ee3a-40a7-bd8c-f9e56eaedc8a"
      },
      "outputs": [],
      "source": [
        "# 7. EVALUATION\n",
        "y_pred = model.predict(X_test)\n",
        "\n",
        "print(\"Classification Report:\")\n",
        "print(classification_report(y_test, y_pred))\n",
        "\n",
        "sns.heatmap(confusion_matrix(y_test, y_pred), annot=True, fmt=\"d\", cmap=\"Blues\",\n",
        "            xticklabels=[\"negative\", \"neutral\", \"positive\"],\n",
        "            yticklabels=[\"negative\", \"neutral\", \"positive\"])\n",
        "plt.title(\"Confusion Matrix\")\n",
        "plt.xlabel(\"Predicted\")\n",
        "plt.ylabel(\"True\")\n",
        "plt.show()"
      ]
    },
    {
      "cell_type": "code",
      "execution_count": null,
      "id": "a687cec1-ebf3-4951-b7de-6f916a963ec3",
      "metadata": {
        "id": "a687cec1-ebf3-4951-b7de-6f916a963ec3"
      },
      "outputs": [],
      "source": [
        "# 8. ABSA: FILTER REVIEWS CONTAINING AN ASPECT & PREDICT SENTIMENT\n",
        "def absa_analysis(aspect_term, sample_total=10):\n",
        "    filtered = df[df[\"cleaned\"].str.contains(aspect_term.lower(), na=False)].copy()\n",
        "    if len(filtered) == 0:\n",
        "        print(\"No reviews found for aspect:\", aspect_term)\n",
        "        return\n",
        "\n",
        "    # Predict sentiment for filtered reviews\n",
        "    X_filtered = vectorizer.transform(filtered[\"cleaned\"])\n",
        "    filtered[\"predicted_sentiment\"] = model.predict(X_filtered)\n",
        "\n",
        "    # Display sentiment breakdown\n",
        "    counts = filtered[\"predicted_sentiment\"].value_counts(normalize=True) * 100\n",
        "    print(f\"\\nSentiment distribution for aspect '{aspect_term}':\\n\")\n",
        "    print(counts.round(2).to_string())\n",
        "\n",
        "    # Sample reviews\n",
        "    print(f\"\\nSample Reviews for aspect '{aspect_term}':\\n\")\n",
        "    sample_counts = {\n",
        "        label: round(sample_total * (counts.get(label, 0) / 100))\n",
        "        for label in [\"positive\", \"neutral\", \"negative\"]\n",
        "    }\n",
        "\n",
        "    # Adjust sample total\n",
        "    while sum(sample_counts.values()) > sample_total:\n",
        "        for label in sample_counts:\n",
        "            if sample_counts[label] > 0:\n",
        "                sample_counts[label] -= 1\n",
        "                break\n",
        "    while sum(sample_counts.values()) < sample_total:\n",
        "        for label in sample_counts:\n",
        "            sample_counts[label] += 1\n",
        "            if sum(sample_counts.values()) == sample_total:\n",
        "                break\n",
        "\n",
        "    for sentiment, count in sample_counts.items():\n",
        "        samples = filtered[filtered[\"predicted_sentiment\"] == sentiment].sample(n=min(count, len(filtered[filtered[\"predicted_sentiment\"] == sentiment])), random_state=42)\n",
        "        for review in samples[\"review_description\"]:\n",
        "            print(f\"[{sentiment.upper()}] {review}\\n\")\n"
      ]
    },
    {
      "cell_type": "code",
      "execution_count": null,
      "id": "01cf1681-cab4-4870-97f0-cb35feb283c8",
      "metadata": {
        "id": "01cf1681-cab4-4870-97f0-cb35feb283c8"
      },
      "outputs": [],
      "source": [
        "# 9. TEST ABSA\n",
        "absa_analysis(\"driver\", sample_total=10)\n",
        "absa_analysis(\"payment\", sample_total=10)\n",
        "absa_analysis(\"app\", sample_total=10)"
      ]
    },
    {
      "cell_type": "code",
      "execution_count": null,
      "id": "b0bbbb23-5a74-4f8b-a79b-d760fd433b4e",
      "metadata": {
        "id": "b0bbbb23-5a74-4f8b-a79b-d760fd433b4e"
      },
      "outputs": [],
      "source": []
    }
  ],
  "metadata": {
    "kernelspec": {
      "display_name": "Python 3 (ipykernel)",
      "language": "python",
      "name": "python3"
    },
    "language_info": {
      "codemirror_mode": {
        "name": "ipython",
        "version": 3
      },
      "file_extension": ".py",
      "mimetype": "text/x-python",
      "name": "python",
      "nbconvert_exporter": "python",
      "pygments_lexer": "ipython3",
      "version": "3.10.11"
    },
    "colab": {
      "provenance": []
    }
  },
  "nbformat": 4,
  "nbformat_minor": 5
}